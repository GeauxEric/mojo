{
 "cells": [
  {
   "cell_type": "code",
   "execution_count": 1,
   "metadata": {},
   "outputs": [],
   "source": [
    "import benchmark\n",
    "from memory import memset_zero\n",
    "from random import rand"
   ]
  },
  {
   "cell_type": "code",
   "execution_count": 2,
   "metadata": {},
   "outputs": [],
   "source": [
    "alias type = DType.float32\n",
    "\n",
    "struct Matrix[rows: Int, cols: Int]:\n",
    "    var data: DTypePointer[type]\n",
    "\n",
    "    # Initialize zeroeing all values\n",
    "    fn __init__(inout self):\n",
    "        self.data = DTypePointer[type].alloc(rows * cols)\n",
    "        memset_zero(self.data, rows * cols)\n",
    "\n",
    "    # Initialize taking a pointer, don't set any elements\n",
    "    fn __init__(inout self, data: DTypePointer[type]):\n",
    "        self.data = data\n",
    "\n",
    "    # Initialize with random values\n",
    "    @staticmethod\n",
    "    fn rand() -> Self:\n",
    "        var data = DTypePointer[type].alloc(rows * cols)\n",
    "        rand(data, rows * cols)\n",
    "        return Self(data)\n",
    "\n",
    "    fn __getitem__(self, y: Int, x: Int) -> Scalar[type]:\n",
    "        return self.load[1](y, x)\n",
    "\n",
    "    fn __setitem__(self, y: Int, x: Int, val: Scalar[type]):\n",
    "        self.store[1](y, x, val)\n",
    "\n",
    "    fn load[nelts: Int](self, y: Int, x: Int) -> SIMD[type, nelts]:\n",
    "        return self.data.load[width=nelts](y * self.cols + x)\n",
    "\n",
    "    fn store[nelts: Int](self, y: Int, x: Int, val: SIMD[type, nelts]):\n",
    "        return self.data.store[width=nelts](y * self.cols + x, val)\n",
    "    fn __del__(owned self):\n",
    "        self.data.free()\n",
    "    fn __copyinit__(inout self, existing: Self):\n",
    "        self.data = DTypePointer[type].alloc(rows * cols)\n",
    "        memcpy[rows * cols](self.data, existing.data)\n",
    "        "
   ]
  },
  {
   "cell_type": "code",
   "execution_count": 3,
   "metadata": {},
   "outputs": [],
   "source": [
    "import math"
   ]
  },
  {
   "cell_type": "code",
   "execution_count": 24,
   "metadata": {},
   "outputs": [],
   "source": [
    "\n",
    "struct Column[rows: Int]:\n",
    "    alias Col = Matrix[rows, 1]\n",
    "    var elements: Self.Col\n",
    "    fn __init__(inout self):\n",
    "        self.elements.__init__()\n",
    "    fn __init__(inout self, matrix: Matrix[rows, 1]):\n",
    "        self.elements = matrix\n",
    "    @staticmethod\n",
    "    fn rand() -> Self:\n",
    "        return Self.Col.rand()\n",
    "    fn __getitem__(self, i: Int) raises -> Scalar[type]:\n",
    "        if i >= rows:\n",
    "            # note that DTypePointer has no bounds checking\n",
    "            raise Error(\"index out of range\")\n",
    "        return self.elements[i, 0]\n",
    "    fn __setitem__(inout self, i: Int, val: Scalar[type]):\n",
    "        self.elements[i, 0] = val\n",
    "    fn __copyinit__(inout self, existing: Self):\n",
    "        self.elements = existing.elements\n",
    "    fn softmax(self) raises -> Self:\n",
    "        var x_max: Scalar[type]  = 0\n",
    "        for i in range(rows):\n",
    "            var x = self[i]\n",
    "            if x > x_max:\n",
    "                x_max = x\n",
    "        var d: Scalar[type] = 0\n",
    "        for i in range(rows):\n",
    "            var x = self[i]\n",
    "            d += math.exp(x - x_max)\n",
    "        var probs = Self()\n",
    "        for i in range(rows):\n",
    "            var x = self[i]\n",
    "            probs[i] = math.exp(x - x_max) / d\n",
    "        return probs \n",
    "\n"
   ]
  },
  {
   "cell_type": "code",
   "execution_count": 27,
   "metadata": {},
   "outputs": [
    {
     "name": "stdout",
     "output_type": "stream",
     "text": [
      "0.62686139345169067 0.7093198299407959 0.2802889347076416 0.37190967798233032\n",
      "0.12561589479446411 0.13641302287578583 0.088823951780796051 0.097346529364585876\n",
      "sum of probability 0.99999994039535522\n"
     ]
    }
   ],
   "source": [
    "var logits = Column[10].rand()\n",
    "print(logits[0], logits[1], logits[2], logits[3])\n",
    "var probs = logits.softmax()\n",
    "print(probs[0], probs[1], probs[2], probs[3])\n",
    "var s: Scalar[type] = 0.0\n",
    "for i in range(10):\n",
    "    s += probs[i]\n",
    "print(\"sum of probability\", s, end=\"\\n\")"
   ]
  },
  {
   "cell_type": "code",
   "execution_count": null,
   "metadata": {},
   "outputs": [],
   "source": []
  },
  {
   "cell_type": "code",
   "execution_count": null,
   "metadata": {},
   "outputs": [],
   "source": []
  }
 ],
 "metadata": {
  "kernelspec": {
   "display_name": "Mojo",
   "language": "mojo",
   "name": "mojo-jupyter-kernel"
  },
  "language_info": {
   "codemirror_mode": {
    "name": "mojo"
   },
   "file_extension": ".mojo",
   "mimetype": "text/x-mojo",
   "name": "mojo"
  }
 },
 "nbformat": 4,
 "nbformat_minor": 2
}
