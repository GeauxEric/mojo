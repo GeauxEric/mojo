{
 "cells": [
  {
   "cell_type": "code",
   "execution_count": 49,
   "metadata": {},
   "outputs": [],
   "source": [
    "import benchmark\n",
    "from memory import memset_zero\n",
    "from random import rand"
   ]
  },
  {
   "cell_type": "code",
   "execution_count": 50,
   "metadata": {},
   "outputs": [],
   "source": [
    "alias type = DType.float32\n",
    "\n",
    "struct Matrix[rows: Int, cols: Int]:\n",
    "    var data: DTypePointer[type]\n",
    "\n",
    "    # Initialize zeroeing all values\n",
    "    fn __init__(inout self):\n",
    "        self.data = DTypePointer[type].alloc(rows * cols)\n",
    "        memset_zero(self.data, rows * cols)\n",
    "\n",
    "    # Initialize taking a pointer, don't set any elements\n",
    "    fn __init__(inout self, data: DTypePointer[type]):\n",
    "        self.data = data\n",
    "\n",
    "    # Initialize with random values\n",
    "    @staticmethod\n",
    "    fn rand() -> Self:\n",
    "        var data = DTypePointer[type].alloc(rows * cols)\n",
    "        rand(data, rows * cols)\n",
    "        return Self(data)\n",
    "\n",
    "    fn __getitem__(self, y: Int, x: Int) -> Scalar[type]:\n",
    "        return self.load[1](y, x)\n",
    "\n",
    "    fn __setitem__(self, y: Int, x: Int, val: Scalar[type]):\n",
    "        self.store[1](y, x, val)\n",
    "\n",
    "    fn load[nelts: Int](self, y: Int, x: Int) -> SIMD[type, nelts]:\n",
    "        return self.data.load[width=nelts](y * self.cols + x)\n",
    "\n",
    "    fn store[nelts: Int](self, y: Int, x: Int, val: SIMD[type, nelts]):\n",
    "        return self.data.store[width=nelts](y * self.cols + x, val)\n",
    "    fn __del__(owned self):\n",
    "        self.data.free()\n",
    "    fn __copyinit__(inout self, existing: Self):\n",
    "        self.data = DTypePointer[type].alloc(rows * cols)\n",
    "        memcpy[rows * cols](self.data, existing.data)\n",
    "        "
   ]
  },
  {
   "cell_type": "code",
   "execution_count": 51,
   "metadata": {},
   "outputs": [],
   "source": [
    "import math"
   ]
  },
  {
   "cell_type": "code",
   "execution_count": 52,
   "metadata": {},
   "outputs": [],
   "source": [
    "\n",
    "struct Column[nelts: Int]:\n",
    "    alias Col = Matrix[nelts, 1]\n",
    "    var elements: Self.Col\n",
    "    fn __init__(inout self):\n",
    "        self.elements.__init__()\n",
    "    fn __init__(inout self, matrix: Matrix[nelts, 1]):\n",
    "        self.elements = matrix\n",
    "    @staticmethod\n",
    "    fn rand() -> Self:\n",
    "        return Self.Col.rand()\n",
    "    fn __getitem__(self, i: Int) -> Scalar[type]:\n",
    "        return self.elements[i, 0]\n",
    "    fn __setitem__(inout self, i: Int, val: Scalar[type]):\n",
    "        self.elements[i, 0] = val\n",
    "    fn __copyinit__(inout self, existing: Self):\n",
    "        self.elements = existing.elements\n",
    "    fn softmax(self) -> Self:\n",
    "        var x_max: Scalar[type]  = math.limit.neginf[type]()\n",
    "        for i in range(nelts):\n",
    "            var x = self[i]\n",
    "            if x > x_max:\n",
    "                x_max = x\n",
    "        var d: Scalar[type] = 0\n",
    "        for i in range(nelts):\n",
    "            var x = self[i]\n",
    "            d += math.exp(x - x_max)\n",
    "        var probs = Self()\n",
    "        for i in range(nelts):\n",
    "            var x = self[i]\n",
    "            probs[i] = math.exp(x - x_max) / d\n",
    "        return probs \n",
    "    fn softmax_online(self) -> Self:\n",
    "        var m = math.limit.neginf[type]()\n",
    "        var d: Scalar[type] = 0\n",
    "        for i in range(nelts):\n",
    "            var x = self[i]\n",
    "            var m_prev = m\n",
    "            if x > m:\n",
    "                m = x\n",
    "            d = d * math.exp(m_prev - m) + math.exp(x - m) \n",
    "        var probs = Self()\n",
    "        for i in range(nelts):\n",
    "            var x = self[i]\n",
    "            probs[i] = math.exp(x - m) / d\n",
    "        return probs\n",
    "    fn __eq__(self, other: Self) -> Bool:\n",
    "        for i in range(nelts):\n",
    "            if self[i] != other[i]:\n",
    "                return False\n",
    "        return True\n",
    "\n"
   ]
  },
  {
   "cell_type": "code",
   "execution_count": 53,
   "metadata": {},
   "outputs": [
    {
     "name": "stdout",
     "output_type": "stream",
     "text": [
      "logits 0.98534935712814331 0.082506522536277771 0.42917641997337341 0.36413341760635376\n",
      "probabilities\t 0.15004785358905792 0.06083172932267189 0.086037337779998779 0.08061932772397995\n",
      "expected sum=1 actual= 1.0\n",
      "True\n"
     ]
    }
   ],
   "source": [
    "var logits = Column[10].rand()\n",
    "print(\"logits\", logits[0], logits[1], logits[2], logits[3])\n",
    "var probs = logits.softmax()\n",
    "print(\"probabilities\\t\", probs[0], probs[1], probs[2], probs[3])\n",
    "var probs_online = logits.softmax_online()\n",
    "var s: Scalar[type] = 0.0\n",
    "for i in range(10):\n",
    "    s += probs[i]\n",
    "print(\"expected sum=1\", \"actual=\", s)\n",
    "print(probs == probs_online)"
   ]
  },
  {
   "cell_type": "code",
   "execution_count": 62,
   "metadata": {},
   "outputs": [],
   "source": [
    "from benchmark import Unit\n",
    "from benchmark.compiler import keep\n",
    "alias nelts = 100000000\n",
    "fn bench[func: fn (Column[nelts]) -> None, name: StringLiteral]():\n",
    "    var logits = Column[nelts].rand()\n",
    "    @always_inline\n",
    "    @parameter\n",
    "    fn test_fn():\n",
    "        var probs = func(logits)\n",
    "        keep(probs)\n",
    "    \n",
    "    var report = benchmark.run[test_fn]()\n",
    "    report.print(Unit.ms)"
   ]
  },
  {
   "cell_type": "code",
   "execution_count": 63,
   "metadata": {},
   "outputs": [
    {
     "name": "stdout",
     "output_type": "stream",
     "text": [
      "---------------------\n",
      "Benchmark Report (ms)\n",
      "---------------------\n",
      "Mean: 1.7e-14\n",
      "Total: 1.7e-05\n",
      "Iters: 1000000000\n",
      "Warmup Mean: 1.5999999999999999e-05\n",
      "Warmup Total: 3.1999999999999999e-05\n",
      "Warmup Iters: 2\n",
      "Fastest Mean: 1.7e-14\n",
      "Slowest Mean: 1.7e-14\n",
      "\n",
      "---------------------\n",
      "Benchmark Report (ms)\n",
      "---------------------\n",
      "Mean: 1.7999999999999999e-14\n",
      "Total: 1.8e-05\n",
      "Iters: 1000000000\n",
      "Warmup Mean: 1.5500000000000001e-05\n",
      "Warmup Total: 3.1000000000000001e-05\n",
      "Warmup Iters: 2\n",
      "Fastest Mean: 1.7999999999999999e-14\n",
      "Slowest Mean: 1.7999999999999999e-14\n",
      "\n"
     ]
    }
   ],
   "source": [
    "fn naive(logits: Column[nelts]):\n",
    "    _ = logits.softmax()\n",
    "fn online(logits: Column[nelts]):\n",
    "    _ = logits.softmax_online()\n",
    "bench[naive, \"naive\"]()\n",
    "bench[online, \"online normalization\"]()"
   ]
  },
  {
   "cell_type": "code",
   "execution_count": null,
   "metadata": {},
   "outputs": [],
   "source": []
  }
 ],
 "metadata": {
  "kernelspec": {
   "display_name": "Mojo",
   "language": "mojo",
   "name": "mojo-jupyter-kernel"
  },
  "language_info": {
   "codemirror_mode": {
    "name": "mojo"
   },
   "file_extension": ".mojo",
   "mimetype": "text/x-mojo",
   "name": "mojo"
  }
 },
 "nbformat": 4,
 "nbformat_minor": 2
}
