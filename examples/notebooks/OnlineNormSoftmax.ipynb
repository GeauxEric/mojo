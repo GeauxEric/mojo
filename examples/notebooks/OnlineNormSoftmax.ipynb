{
 "cells": [
  {
   "cell_type": "code",
   "execution_count": 1,
   "metadata": {},
   "outputs": [],
   "source": [
    "import benchmark\n",
    "from memory import memset_zero\n",
    "from random import rand"
   ]
  },
  {
   "cell_type": "code",
   "execution_count": 2,
   "metadata": {},
   "outputs": [],
   "source": [
    "alias type = DType.float32\n",
    "\n",
    "struct Matrix[rows: Int, cols: Int]:\n",
    "    var data: DTypePointer[type]\n",
    "\n",
    "    # Initialize zeroeing all values\n",
    "    fn __init__(inout self):\n",
    "        self.data = DTypePointer[type].alloc(rows * cols)\n",
    "        memset_zero(self.data, rows * cols)\n",
    "\n",
    "    # Initialize taking a pointer, don't set any elements\n",
    "    fn __init__(inout self, data: DTypePointer[type]):\n",
    "        self.data = data\n",
    "\n",
    "    # Initialize with random values\n",
    "    @staticmethod\n",
    "    fn rand() -> Self:\n",
    "        var data = DTypePointer[type].alloc(rows * cols)\n",
    "        rand(data, rows * cols)\n",
    "        return Self(data)\n",
    "\n",
    "    fn __getitem__(self, y: Int, x: Int) -> Scalar[type]:\n",
    "        return self.load[1](y, x)\n",
    "\n",
    "    fn __setitem__(self, y: Int, x: Int, val: Scalar[type]):\n",
    "        self.store[1](y, x, val)\n",
    "\n",
    "    fn load[nelts: Int](self, y: Int, x: Int) -> SIMD[type, nelts]:\n",
    "        return self.data.load[width=nelts](y * self.cols + x)\n",
    "\n",
    "    fn store[nelts: Int](self, y: Int, x: Int, val: SIMD[type, nelts]):\n",
    "        return self.data.store[width=nelts](y * self.cols + x, val)\n",
    "    fn __del__(owned self):\n",
    "        self.data.free()\n",
    "    fn __copyinit__(inout self, existing: Self):\n",
    "        self.data = DTypePointer[type].alloc(rows * cols)\n",
    "        memcpy[rows * cols](self.data, existing.data)\n",
    "        "
   ]
  },
  {
   "cell_type": "code",
   "execution_count": 3,
   "metadata": {},
   "outputs": [],
   "source": [
    "import math"
   ]
  },
  {
   "cell_type": "code",
   "execution_count": 37,
   "metadata": {},
   "outputs": [],
   "source": [
    "\n",
    "struct Column[nelts: Int]:\n",
    "    alias Col = Matrix[nelts, 1]\n",
    "    var elements: Self.Col\n",
    "    fn __init__(inout self):\n",
    "        self.elements.__init__()\n",
    "    fn __init__(inout self, matrix: Matrix[nelts, 1]):\n",
    "        self.elements = matrix\n",
    "    @staticmethod\n",
    "    fn rand() -> Self:\n",
    "        return Self.Col.rand()\n",
    "    fn __getitem__(self, i: Int) raises -> Scalar[type]:\n",
    "        if i >= nelts:\n",
    "            # note that DTypePointer has no bounds checking\n",
    "            raise Error(\"index out of range\")\n",
    "        return self.elements[i, 0]\n",
    "    fn __setitem__(inout self, i: Int, val: Scalar[type]):\n",
    "        self.elements[i, 0] = val\n",
    "    fn __copyinit__(inout self, existing: Self):\n",
    "        self.elements = existing.elements\n",
    "    fn softmax(self) raises -> Self:\n",
    "        var x_max: Scalar[type]  = math.limit.neginf[type]()\n",
    "        for i in range(nelts):\n",
    "            var x = self[i]\n",
    "            if x > x_max:\n",
    "                x_max = x\n",
    "        var d: Scalar[type] = 0\n",
    "        for i in range(nelts):\n",
    "            var x = self[i]\n",
    "            d += math.exp(x - x_max)\n",
    "        var probs = Self()\n",
    "        for i in range(nelts):\n",
    "            var x = self[i]\n",
    "            probs[i] = math.exp(x - x_max) / d\n",
    "        return probs \n",
    "    fn softmax_online(self) raises -> Self:\n",
    "        var m = math.limit.neginf[type]()\n",
    "        var d: Scalar[type] = 0\n",
    "        for i in range(nelts):\n",
    "            var x = self[i]\n",
    "            var m_prev = m\n",
    "            if x > m:\n",
    "                m = x\n",
    "            d = d * math.exp(m_prev - m) + math.exp(x - m) \n",
    "        var probs = Self()\n",
    "        for i in range(nelts):\n",
    "            var x = self[i]\n",
    "            probs[i] = math.exp(x - m) / d\n",
    "        return probs\n",
    "\n"
   ]
  },
  {
   "cell_type": "code",
   "execution_count": 47,
   "metadata": {},
   "outputs": [
    {
     "name": "stdout",
     "output_type": "stream",
     "text": [
      "logits 0.92550307512283325 0.43044599890708923 0.83125597238540649 0.60163766145706177\n",
      "probabilities\t\t\t\t 0.13866916298866272 0.084523864090442657 0.1261969655752182 0.10030600428581238\n",
      "probabilities from online normalization\t 0.13866916298866272 0.084523864090442657 0.1261969655752182 0.10030600428581238\n",
      "expected sum=1 actual= 1.0\n",
      "expected sum=1 actual= 1.0\n"
     ]
    }
   ],
   "source": [
    "var logits = Column[10].rand()\n",
    "print(\"logits\", logits[0], logits[1], logits[2], logits[3])\n",
    "var probs = logits.softmax()\n",
    "print(\"probabilities\\t\\t\\t\\t\", probs[0], probs[1], probs[2], probs[3])\n",
    "var probs_online = logits.softmax_online()\n",
    "print(\"probabilities from online normalization\\t\", probs_online[0], probs_online[1], probs_online[2], probs_online[3])\n",
    "var s: Scalar[type] = 0.0\n",
    "for i in range(10):\n",
    "    s += probs[i]\n",
    "print(\"expected sum=1\", \"actual=\", s)\n",
    "s = 0.0\n",
    "for i in range(10):\n",
    "    s += probs_online[i]\n",
    "print(\"expected sum=1\", \"actual=\", s)"
   ]
  },
  {
   "cell_type": "code",
   "execution_count": null,
   "metadata": {},
   "outputs": [],
   "source": []
  },
  {
   "cell_type": "code",
   "execution_count": null,
   "metadata": {},
   "outputs": [],
   "source": []
  }
 ],
 "metadata": {
  "kernelspec": {
   "display_name": "Mojo",
   "language": "mojo",
   "name": "mojo-jupyter-kernel"
  },
  "language_info": {
   "codemirror_mode": {
    "name": "mojo"
   },
   "file_extension": ".mojo",
   "mimetype": "text/x-mojo",
   "name": "mojo"
  }
 },
 "nbformat": 4,
 "nbformat_minor": 2
}
